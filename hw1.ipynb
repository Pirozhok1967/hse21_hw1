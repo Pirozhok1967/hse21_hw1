{
  "nbformat": 4,
  "nbformat_minor": 0,
  "metadata": {
    "colab": {
      "name": "hw1.ipynb",
      "provenance": []
    },
    "kernelspec": {
      "name": "python3",
      "display_name": "Python 3"
    },
    "language_info": {
      "name": "python"
    }
  },
  "cells": [
    {
      "cell_type": "code",
      "metadata": {
        "colab": {
          "base_uri": "https://localhost:8080/"
        },
        "id": "kgyg-L7-i6xm",
        "outputId": "2e083408-316c-46f5-e11a-6e58d8e4ee9f"
      },
      "source": [
        "!git clone https://github.com/Pirozhok1967/hse21_hw1"
      ],
      "execution_count": 1,
      "outputs": [
        {
          "output_type": "stream",
          "name": "stdout",
          "text": [
            "Cloning into 'hse21_hw1'...\n",
            "remote: Enumerating objects: 57, done.\u001b[K\n",
            "remote: Counting objects: 100% (57/57), done.\u001b[K\n",
            "remote: Compressing objects: 100% (51/51), done.\u001b[K\n",
            "remote: Total 57 (delta 16), reused 0 (delta 0), pack-reused 0\u001b[K\n",
            "Unpacking objects: 100% (57/57), done.\n"
          ]
        }
      ]
    },
    {
      "cell_type": "markdown",
      "metadata": {
        "id": "ocyMi-k6lDc5"
      },
      "source": [
        "Код для анализа полученных контигов (общее кол-во контигов, их общая длина, длина самого длинного контига, N50)\n"
      ]
    },
    {
      "cell_type": "code",
      "metadata": {
        "colab": {
          "base_uri": "https://localhost:8080/"
        },
        "id": "MqRqgcuNjA34",
        "outputId": "1668eeb1-79e1-4596-dbb7-089ed3342dc1"
      },
      "source": [
        "def info(file):\n",
        "  lenght = !grep '^>' $file | sed -E 's/^.*len([0-9]+).*$/\\1/'\n",
        "  nums = sorted((int(e) for e in lenght), reverse=True)\n",
        "  total = sum(nums)\n",
        "\n",
        "  score = 0\n",
        "  for e in nums:\n",
        "    score += e\n",
        "    if score >= total/2:\n",
        "      N50 = e\n",
        "      break\n",
        "\n",
        "  print(f\"Количество = {len(nums)}\")\n",
        "  print(f\"Общая длина = {total}\")\n",
        "  print(f\"Самый длинный = {nums[0]}\")\n",
        "  print(f\"N50 = {N50}\")\n",
        "\n",
        "info(\"hse21_hw1/data/out_contig.fa\")"
      ],
      "execution_count": 10,
      "outputs": [
        {
          "output_type": "stream",
          "name": "stdout",
          "text": [
            "Количество = 611\n",
            "Общая длина = 3924980\n",
            "Самый длинный = 158930\n",
            "N50 = 44333\n"
          ]
        }
      ]
    },
    {
      "cell_type": "markdown",
      "metadata": {
        "id": "5jHK9bFnlZMP"
      },
      "source": [
        "Код для анализа полученных скаффолдов (общее кол-во скаффолдов, их общая длина, длина самого длинного скаффолда, N50)\n"
      ]
    },
    {
      "cell_type": "code",
      "metadata": {
        "colab": {
          "base_uri": "https://localhost:8080/"
        },
        "id": "FYcl-LO1joOm",
        "outputId": "5e388259-2869-4434-94c1-c3adc44b35f6"
      },
      "source": [
        "info(\"hse21_hw1/data/out_scaffold.fa\")"
      ],
      "execution_count": 11,
      "outputs": [
        {
          "output_type": "stream",
          "name": "stdout",
          "text": [
            "Количество = 71\n",
            "Общая длина = 3875845\n",
            "Самый длинный = 3831677\n",
            "N50 = 3831677\n"
          ]
        }
      ]
    },
    {
      "cell_type": "markdown",
      "metadata": {
        "id": "YJygXm-KmD0X"
      },
      "source": [
        "Для самого длинного скаффолда посчитать количество гэпов (участков, состоящих из букв NNNN) и их общую длину\n"
      ]
    },
    {
      "cell_type": "code",
      "metadata": {
        "colab": {
          "base_uri": "https://localhost:8080/"
        },
        "id": "9SSG4TH_kHEt",
        "outputId": "c9501484-1faf-400a-ff31-0bed2230236e"
      },
      "source": [
        "def gap(file):\n",
        "  num = !grep -Ec 'N+' $file\n",
        "  total = !grep -Eo 'N+' $file | tr -cd 'N' | wc -c\n",
        "  print(f\"Количество = {num[0]}\")\n",
        "  print(f\"Общая длина = {total[0]}\")\n",
        "\n",
        "gap(\"hse21_hw1/data/longest.fa\")"
      ],
      "execution_count": 12,
      "outputs": [
        {
          "output_type": "stream",
          "name": "stdout",
          "text": [
            "Количество = 1\n",
            "Общая длина = 849\n"
          ]
        }
      ]
    }
  ]
}